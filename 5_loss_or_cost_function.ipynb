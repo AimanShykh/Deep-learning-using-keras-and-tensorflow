{
  "cells": [
    {
      "cell_type": "code",
      "execution_count": null,
      "metadata": {
        "id": "57T4FhZNgT_Z"
      },
      "outputs": [],
      "source": [
        "import numpy as np"
      ]
    },
    {
      "cell_type": "code",
      "execution_count": null,
      "metadata": {
        "id": "eF7KeD3ngT_d"
      },
      "outputs": [],
      "source": [
        "y_predicted = np.array([1,1,0,0,1])\n",
        "y_true = np.array([0.30,0.7,1,0,0.5])"
      ]
    },
    {
      "cell_type": "markdown",
      "metadata": {
        "id": "58C_btSOgT_e"
      },
      "source": [
        "<h3 style='color:blue'>Implement Mean Absolute Error</h3>"
      ]
    },
    {
      "cell_type": "code",
      "execution_count": null,
      "metadata": {
        "id": "UZleSABagT_f"
      },
      "outputs": [],
      "source": [
        "def mae(y_predicted, y_true):\n",
        "    total_error = 0\n",
        "    for yp, yt in zip(y_predicted, y_true):\n",
        "        total_error += abs(yp - yt)\n",
        "    print(\"Total error is:\",total_error)\n",
        "    mae = total_error/len(y_predicted)\n",
        "    print(\"Mean absolute error is:\",mae)\n",
        "    return mae"
      ]
    },
    {
      "cell_type": "code",
      "execution_count": null,
      "metadata": {
        "scrolled": true,
        "id": "9B0A086RgT_g",
        "outputId": "dcc2718b-9d2e-4323-f7a5-f58a15b93baa"
      },
      "outputs": [
        {
          "name": "stdout",
          "output_type": "stream",
          "text": [
            "Total error is: 2.5\n",
            "Mean absolute error is: 0.5\n"
          ]
        },
        {
          "data": {
            "text/plain": [
              "0.5"
            ]
          },
          "execution_count": 5,
          "metadata": {},
          "output_type": "execute_result"
        }
      ],
      "source": [
        "mae(y_predicted, y_true)"
      ]
    },
    {
      "cell_type": "markdown",
      "metadata": {
        "id": "JCYOz3YDgT_h"
      },
      "source": [
        "**Implement same thing using numpy in much easier way**"
      ]
    },
    {
      "cell_type": "code",
      "execution_count": null,
      "metadata": {
        "id": "-XFEmB1WgT_h",
        "outputId": "541eccc7-8cd4-43f9-f18a-e22516670a54"
      },
      "outputs": [
        {
          "data": {
            "text/plain": [
              "array([0.5, 0.5, 0. , 0. , 0.3])"
            ]
          },
          "execution_count": 32,
          "metadata": {},
          "output_type": "execute_result"
        }
      ],
      "source": [
        "np.abs(y_predicted-y_true)"
      ]
    },
    {
      "cell_type": "code",
      "execution_count": null,
      "metadata": {
        "id": "dhIfYo1MgT_i",
        "outputId": "d322067d-e476-4a8e-adee-0c8376e16332"
      },
      "outputs": [
        {
          "data": {
            "text/plain": [
              "0.26"
            ]
          },
          "execution_count": 33,
          "metadata": {},
          "output_type": "execute_result"
        }
      ],
      "source": [
        "np.mean(np.abs(y_predicted-y_true))"
      ]
    },
    {
      "cell_type": "code",
      "execution_count": null,
      "metadata": {
        "id": "A1CAiUuzgT_i"
      },
      "outputs": [],
      "source": [
        "def mae_np(y_predicted, y_true):\n",
        "    return np.mean(np.abs(y_predicted-y_true))"
      ]
    },
    {
      "cell_type": "code",
      "execution_count": null,
      "metadata": {
        "scrolled": true,
        "id": "CxkWCSA4gT_j",
        "outputId": "bb0623dd-45b7-4b08-dff7-0e448c68cec5"
      },
      "outputs": [
        {
          "data": {
            "text/plain": [
              "0.26"
            ]
          },
          "execution_count": 35,
          "metadata": {},
          "output_type": "execute_result"
        }
      ],
      "source": [
        "mae_np(y_predicted, y_true)"
      ]
    },
    {
      "cell_type": "markdown",
      "metadata": {
        "id": "N6l3-NJSgT_j"
      },
      "source": [
        "<h3 style='color:blue'>Implement Log Loss or Binary Cross Entropy</h3>"
      ]
    },
    {
      "cell_type": "code",
      "execution_count": null,
      "metadata": {
        "id": "7vIMH-8AgT_k",
        "outputId": "7bef851e-55d4-4209-c400-0d8aa46747eb"
      },
      "outputs": [
        {
          "name": "stderr",
          "output_type": "stream",
          "text": [
            "<ipython-input-79-faee82fd9f21>:1: RuntimeWarning: divide by zero encountered in log\n",
            "  np.log([0])\n"
          ]
        },
        {
          "data": {
            "text/plain": [
              "array([-inf])"
            ]
          },
          "execution_count": 79,
          "metadata": {},
          "output_type": "execute_result"
        }
      ],
      "source": [
        "np.log([0])"
      ]
    },
    {
      "cell_type": "code",
      "execution_count": null,
      "metadata": {
        "id": "xZFJG7k6gT_k"
      },
      "outputs": [],
      "source": [
        "epsilon = 1e-15"
      ]
    },
    {
      "cell_type": "code",
      "execution_count": null,
      "metadata": {
        "id": "SIcIP0bKgT_k",
        "outputId": "f7081e38-5c73-4aae-85df-99763142aee4"
      },
      "outputs": [
        {
          "data": {
            "text/plain": [
              "array([-34.53877639])"
            ]
          },
          "execution_count": 58,
          "metadata": {},
          "output_type": "execute_result"
        }
      ],
      "source": [
        "np.log([1e-15])"
      ]
    },
    {
      "cell_type": "code",
      "execution_count": null,
      "metadata": {
        "id": "cWvW9HKtgT_l",
        "outputId": "93d4defa-b9ba-4791-cc40-1ef3b4c0dce2"
      },
      "outputs": [
        {
          "data": {
            "text/plain": [
              "array([1, 1, 0, 0, 1])"
            ]
          },
          "execution_count": 61,
          "metadata": {},
          "output_type": "execute_result"
        }
      ],
      "source": [
        "y_predicted"
      ]
    },
    {
      "cell_type": "code",
      "execution_count": null,
      "metadata": {
        "scrolled": true,
        "id": "M_w4AqxygT_l",
        "outputId": "4c7cea1f-f5bb-4dec-f29a-1c7cc1278d1a"
      },
      "outputs": [
        {
          "data": {
            "text/plain": [
              "[1, 1, 1e-15, 1e-15, 1]"
            ]
          },
          "execution_count": 68,
          "metadata": {},
          "output_type": "execute_result"
        }
      ],
      "source": [
        "y_predicted_new = [max(i,epsilon) for i in y_predicted]\n",
        "y_predicted_new"
      ]
    },
    {
      "cell_type": "code",
      "execution_count": null,
      "metadata": {
        "id": "R3cyNUlugT_m",
        "outputId": "b68af15e-e61b-43c1-fe93-ad9f37ef628d"
      },
      "outputs": [
        {
          "data": {
            "text/plain": [
              "0.999999999999999"
            ]
          },
          "execution_count": 70,
          "metadata": {},
          "output_type": "execute_result"
        }
      ],
      "source": [
        "1-epsilon"
      ]
    },
    {
      "cell_type": "code",
      "execution_count": null,
      "metadata": {
        "id": "W20AYLdGgT_m",
        "outputId": "a36731a9-0966-4eb5-f41e-cb719683a3f9"
      },
      "outputs": [
        {
          "data": {
            "text/plain": [
              "[0.999999999999999, 0.999999999999999, 1e-15, 1e-15, 0.999999999999999]"
            ]
          },
          "execution_count": 69,
          "metadata": {},
          "output_type": "execute_result"
        }
      ],
      "source": [
        "y_predicted_new = [min(i,1-epsilon) for i in y_predicted_new]\n",
        "y_predicted_new"
      ]
    },
    {
      "cell_type": "code",
      "execution_count": null,
      "metadata": {
        "id": "o7_u7EzVgT_m"
      },
      "outputs": [],
      "source": [
        "y_predicted_new = np.array(y_predicted_new)"
      ]
    },
    {
      "cell_type": "code",
      "execution_count": null,
      "metadata": {
        "id": "YXqFSEgPgT_n",
        "outputId": "cb4fd072-2048-4007-c3c2-448688e11231"
      },
      "outputs": [
        {
          "data": {
            "text/plain": [
              "array([-9.99200722e-16, -9.99200722e-16, -3.45387764e+01, -3.45387764e+01,\n",
              "       -9.99200722e-16])"
            ]
          },
          "execution_count": 71,
          "metadata": {},
          "output_type": "execute_result"
        }
      ],
      "source": [
        "np.log(y_predicted_new)"
      ]
    },
    {
      "cell_type": "code",
      "execution_count": null,
      "metadata": {
        "id": "ZpDocABngT_n",
        "outputId": "574b4fce-541c-4cca-e3bc-a0e71640f9e2"
      },
      "outputs": [
        {
          "data": {
            "text/plain": [
              "17.2696280766844"
            ]
          },
          "execution_count": 75,
          "metadata": {},
          "output_type": "execute_result"
        }
      ],
      "source": [
        "-np.mean(y_true*np.log(y_predicted_new)+(1-y_true)*np.log(1-y_predicted_new))"
      ]
    },
    {
      "cell_type": "code",
      "execution_count": null,
      "metadata": {
        "id": "LG1Ifmb7gT_o"
      },
      "outputs": [],
      "source": [
        "def log_loss(y_true, y_predicted):\n",
        "    y_predicted_new = [max(i,epsilon) for i in y_predicted]\n",
        "    y_predicted_new = [min(i,1-epsilon) for i in y_predicted_new]\n",
        "    y_predicted_new = np.array(y_predicted_new)\n",
        "    return -np.mean(y_true*np.log(y_predicted_new)+(1-y_true)*np.log(1-y_predicted_new))"
      ]
    },
    {
      "cell_type": "code",
      "execution_count": null,
      "metadata": {
        "scrolled": true,
        "id": "_AqxoVadgT_o",
        "outputId": "c6f3933e-2669-4ea5-dbe5-192f429249e6"
      },
      "outputs": [
        {
          "data": {
            "text/plain": [
              "17.2696280766844"
            ]
          },
          "execution_count": 77,
          "metadata": {},
          "output_type": "execute_result"
        }
      ],
      "source": [
        "log_loss(y_true, y_predicted)"
      ]
    },
    {
      "cell_type": "markdown",
      "source": [
        "Implement mean squared error (or MSE) in two ways,\n",
        "\n",
        "1) Without using numpy (i.e. using plain python)\n",
        "\n",
        "2) With the use of numpy"
      ],
      "metadata": {
        "id": "1MNnAbKkiH4F"
      }
    },
    {
      "cell_type": "code",
      "source": [
        "def mse(y_predicted, y_true):\n",
        "    total_error = 0\n",
        "    for yp, yt in zip(y_predicted, y_true):\n",
        "        total_error += abs(yp - yt)**2\n",
        "    print(\"Total error is:\",total_error)\n",
        "    mse = total_error/len(y_predicted)\n",
        "    print(\"Mean absolute error is:\",mse)\n",
        "    return mse"
      ],
      "metadata": {
        "id": "WUPSOVR1gX0S"
      },
      "execution_count": null,
      "outputs": []
    },
    {
      "cell_type": "code",
      "source": [
        "mse(y_predicted, y_true)"
      ],
      "metadata": {
        "colab": {
          "base_uri": "https://localhost:8080/"
        },
        "id": "YRfVs0sCgYAV",
        "outputId": "303f3e44-2f1a-407b-9597-2b3cab44f3e9"
      },
      "execution_count": null,
      "outputs": [
        {
          "output_type": "stream",
          "name": "stdout",
          "text": [
            "Total error is: 1.83\n",
            "Mean absolute error is: 0.366\n"
          ]
        },
        {
          "output_type": "execute_result",
          "data": {
            "text/plain": [
              "np.float64(0.366)"
            ]
          },
          "metadata": {},
          "execution_count": 9
        }
      ]
    },
    {
      "cell_type": "markdown",
      "source": [
        "using numpy"
      ],
      "metadata": {
        "id": "RZhqZtxgiRMw"
      }
    },
    {
      "cell_type": "code",
      "source": [
        "np.mean(np.square(y_predicted-y_true))"
      ],
      "metadata": {
        "colab": {
          "base_uri": "https://localhost:8080/"
        },
        "id": "wa_xIVmYhDTT",
        "outputId": "32b13661-91c5-4868-acaf-e4b989a560bd"
      },
      "execution_count": null,
      "outputs": [
        {
          "output_type": "execute_result",
          "data": {
            "text/plain": [
              "np.float64(0.366)"
            ]
          },
          "metadata": {},
          "execution_count": 11
        }
      ]
    }
  ],
  "metadata": {
    "kernelspec": {
      "display_name": "Python 3",
      "language": "python",
      "name": "python3"
    },
    "language_info": {
      "codemirror_mode": {
        "name": "ipython",
        "version": 3
      },
      "file_extension": ".py",
      "mimetype": "text/x-python",
      "name": "python",
      "nbconvert_exporter": "python",
      "pygments_lexer": "ipython3",
      "version": "3.8.3"
    },
    "colab": {
      "provenance": []
    }
  },
  "nbformat": 4,
  "nbformat_minor": 0
}